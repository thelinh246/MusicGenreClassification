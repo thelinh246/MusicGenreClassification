{
 "cells": [
  {
   "cell_type": "markdown",
   "id": "a3a0ae78-7d7d-4e3d-ab6c-92494a45865d",
   "metadata": {},
   "source": [
    "## Importing Libraries"
   ]
  },
  {
   "cell_type": "code",
   "execution_count": 32,
   "id": "d7a28e9c-fcd1-4ca8-8356-f2e0a2b5329f",
   "metadata": {},
   "outputs": [],
   "source": [
    "import os\n",
    "import librosa\n",
    "import matplotlib.pyplot as plt\n",
    "import tensorflow as tf\n",
    "import numpy as np\n",
    "from tensorflow.keras.layers import Conv2D,MaxPool2D,Flatten,Dense,Dropout\n",
    "from tensorflow.keras.optimizers import Adam"
   ]
  },
  {
   "cell_type": "markdown",
   "id": "18993010-acbd-44e3-801a-2df47e71716a",
   "metadata": {},
   "source": [
    "## Data Preprocessing - Final"
   ]
  },
  {
   "cell_type": "code",
   "execution_count": 6,
   "id": "add384ad-4e43-4e4e-aa78-d9f0d82709dc",
   "metadata": {},
   "outputs": [],
   "source": [
    "#define your folder structure\n",
    "data_dir = \"./MusicGenre\"\n",
    "classes = ['blues', 'classical','country','disco','hiphop','jazz','metal','pop','reggae','rock']"
   ]
  },
  {
   "cell_type": "code",
   "execution_count": 10,
   "id": "ce865fd2-f018-4f1c-b2a4-6856af19bde8",
   "metadata": {},
   "outputs": [],
   "source": [
    "\n",
    "\n",
    "# Load and preprocess audio data\n",
    "def load_and_preprocess_data(data_dir, classes, target_shape=(150, 150)):\n",
    "    data = []\n",
    "    labels = []\n",
    "\n",
    "    for i_class, class_name in enumerate(classes):\n",
    "        class_dir = os.path.join(data_dir, class_name)\n",
    "        print(\"Processing:\", class_name)\n",
    "        for filename in os.listdir(class_dir):\n",
    "            if filename.endswith('.wav'):\n",
    "                file_path = os.path.join(class_dir, filename)\n",
    "                try:\n",
    "                    audio_data, sample_rate = librosa.load(file_path, sr=None)\n",
    "                except Exception as e:\n",
    "                    print(f\"Error loading {file_path}: {e}\")\n",
    "                    continue\n",
    "                \n",
    "                # Perform Preprocessing\n",
    "                # Define the duration of each chunk and overlap\n",
    "                chunk_duration = 4  # seconds\n",
    "                overlap_duration = 2  # seconds\n",
    "                \n",
    "                # Convert duration to sample\n",
    "                chunk_samples = int(chunk_duration * sample_rate)\n",
    "                overlap_samples = int(overlap_duration * sample_rate)\n",
    "                \n",
    "                # Calculate the number of chunks\n",
    "                num_chunks = max(1, int(np.ceil((len(audio_data) - chunk_samples) / (chunk_samples - overlap_samples))) + 1)\n",
    "                \n",
    "                # Iterate over each chunk\n",
    "                for i in range(num_chunks):\n",
    "                    # Calculate start and end indices of the chunk\n",
    "                    start = i * (chunk_samples - overlap_samples)\n",
    "                    end = start + chunk_samples\n",
    "                    \n",
    "                    # Handle edge case where chunk exceeds audio length\n",
    "                    chunk = audio_data[start:end]\n",
    "                    if len(chunk) < chunk_samples:\n",
    "                        # Pad the chunk with zeros if it's shorter than expected\n",
    "                        chunk = np.pad(chunk, (0, chunk_samples - len(chunk)))\n",
    "                    \n",
    "                    # Mel-spectrogram part\n",
    "                    mel_spectrogram = librosa.feature.melspectrogram(y=chunk, sr=sample_rate)\n",
    "                    mel_spectrogram_db = librosa.power_to_db(mel_spectrogram, ref=np.max)\n",
    "                    \n",
    "                    # Resize matrix based on provided target shape\n",
    "                    mel_spectrogram_resized = tf.image.resize(\n",
    "                        np.expand_dims(mel_spectrogram_db, axis=-1), target_shape\n",
    "                    ).numpy()\n",
    "                    \n",
    "                    # Append data to list\n",
    "                    data.append(mel_spectrogram_resized)\n",
    "                    labels.append(i_class)\n",
    "    \n",
    "    # Return\n",
    "    return np.array(data), np.array(labels)\n"
   ]
  },
  {
   "cell_type": "code",
   "execution_count": 11,
   "id": "87a0ce4d-8c30-4418-a451-ff69a790ff0d",
   "metadata": {},
   "outputs": [
    {
     "name": "stdout",
     "output_type": "stream",
     "text": [
      "Processing: blues\n",
      "Processing: classical\n",
      "Processing: country\n",
      "Processing: disco\n",
      "Processing: hiphop\n",
      "Processing: jazz\n"
     ]
    },
    {
     "name": "stderr",
     "output_type": "stream",
     "text": [
      "C:\\Users\\Admin\\AppData\\Local\\Temp\\ipykernel_11864\\2263362814.py:13: UserWarning: PySoundFile failed. Trying audioread instead.\n",
      "  audio_data, sample_rate = librosa.load(file_path, sr=None)\n"
     ]
    },
    {
     "name": "stdout",
     "output_type": "stream",
     "text": [
      "Error loading ./MusicGenre\\jazz\\jazz.00054.wav: \n",
      "Processing: metal\n",
      "Processing: pop\n",
      "Processing: reggae\n",
      "Processing: rock\n"
     ]
    }
   ],
   "source": [
    "data,labels = load_and_preprocess_data(data_dir,classes)"
   ]
  },
  {
   "cell_type": "code",
   "execution_count": 12,
   "id": "08ad3cd4-e507-4ed8-b1f9-1a0f482b8a3c",
   "metadata": {},
   "outputs": [
    {
     "data": {
      "text/plain": [
       "(14975, 150, 150, 1)"
      ]
     },
     "execution_count": 12,
     "metadata": {},
     "output_type": "execute_result"
    }
   ],
   "source": [
    "data.shape"
   ]
  },
  {
   "cell_type": "code",
   "execution_count": 13,
   "id": "9171d9ce-b9dc-4f52-9f83-32bc14999197",
   "metadata": {},
   "outputs": [
    {
     "data": {
      "text/plain": [
       "(14975,)"
      ]
     },
     "execution_count": 13,
     "metadata": {},
     "output_type": "execute_result"
    }
   ],
   "source": [
    "labels.shape"
   ]
  },
  {
   "cell_type": "code",
   "execution_count": 14,
   "id": "eac97b05-dde1-4361-8f62-dbc8da191c7d",
   "metadata": {},
   "outputs": [
    {
     "data": {
      "text/plain": [
       "array([[1., 0., 0., ..., 0., 0., 0.],\n",
       "       [1., 0., 0., ..., 0., 0., 0.],\n",
       "       [1., 0., 0., ..., 0., 0., 0.],\n",
       "       ...,\n",
       "       [0., 0., 0., ..., 0., 0., 1.],\n",
       "       [0., 0., 0., ..., 0., 0., 1.],\n",
       "       [0., 0., 0., ..., 0., 0., 1.]])"
      ]
     },
     "execution_count": 14,
     "metadata": {},
     "output_type": "execute_result"
    }
   ],
   "source": [
    "from tensorflow.keras.utils import to_categorical\n",
    "labels = to_categorical(labels,num_classes = len(classes)) # Converting labels to one-hot encoding\n",
    "labels"
   ]
  },
  {
   "cell_type": "code",
   "execution_count": 15,
   "id": "994faf64-3914-4a05-8f12-1e5d9bdce3a8",
   "metadata": {},
   "outputs": [
    {
     "data": {
      "text/plain": [
       "(14975, 10)"
      ]
     },
     "execution_count": 15,
     "metadata": {},
     "output_type": "execute_result"
    }
   ],
   "source": [
    "labels.shape"
   ]
  },
  {
   "cell_type": "markdown",
   "id": "cde149b2-cc82-47f5-a1f4-cc7faf94d63d",
   "metadata": {},
   "source": [
    "## Splitting of Dataset into Training and Test set"
   ]
  },
  {
   "cell_type": "code",
   "execution_count": 16,
   "id": "8d7ba336-7035-4d10-aad3-9a7a8f65bd91",
   "metadata": {},
   "outputs": [],
   "source": [
    "from sklearn.model_selection import train_test_split\n",
    "X_train,X_test,Y_train,Y_test = train_test_split(data,labels,test_size=0.2,random_state=42)"
   ]
  },
  {
   "cell_type": "markdown",
   "id": "05503331-06f7-4b1e-a776-e29b8d6118db",
   "metadata": {},
   "source": [
    "# Building Model"
   ]
  },
  {
   "cell_type": "code",
   "execution_count": 17,
   "id": "27197cc9-8636-4f0c-bbff-abe0bf7a89af",
   "metadata": {},
   "outputs": [],
   "source": [
    "model = tf.keras.models.Sequential()"
   ]
  },
  {
   "cell_type": "code",
   "execution_count": 18,
   "id": "2db6a0cb-ca97-49d1-a9a3-9c20f6c6e18c",
   "metadata": {},
   "outputs": [
    {
     "data": {
      "text/plain": [
       "(150, 150, 1)"
      ]
     },
     "execution_count": 18,
     "metadata": {},
     "output_type": "execute_result"
    }
   ],
   "source": [
    "X_train[0].shape"
   ]
  },
  {
   "cell_type": "code",
   "execution_count": 19,
   "id": "eadab4c7-7e70-4558-ad6f-64bd7f2672db",
   "metadata": {},
   "outputs": [
    {
     "name": "stderr",
     "output_type": "stream",
     "text": [
      "c:\\Users\\Admin\\AppData\\Local\\Programs\\Python\\Python312\\Lib\\site-packages\\keras\\src\\layers\\convolutional\\base_conv.py:107: UserWarning: Do not pass an `input_shape`/`input_dim` argument to a layer. When using Sequential models, prefer using an `Input(shape)` object as the first layer in the model instead.\n",
      "  super().__init__(activity_regularizer=activity_regularizer, **kwargs)\n"
     ]
    }
   ],
   "source": [
    "model.add(Conv2D(filters=32,kernel_size=3,padding='same',activation='relu',input_shape=X_train[0].shape))\n",
    "model.add(Conv2D(filters=32,kernel_size=3,activation='relu'))\n",
    "model.add(MaxPool2D(pool_size=2,strides=2))"
   ]
  },
  {
   "cell_type": "code",
   "execution_count": 20,
   "id": "7b8e3dfd-a4ab-4308-88ff-8404ed998315",
   "metadata": {},
   "outputs": [],
   "source": [
    "model.add(Conv2D(filters=64,kernel_size=3,padding='same',activation='relu'))\n",
    "model.add(Conv2D(filters=64,kernel_size=3,activation='relu'))\n",
    "model.add(MaxPool2D(pool_size=2,strides=2))"
   ]
  },
  {
   "cell_type": "code",
   "execution_count": 21,
   "id": "e338b979-4488-4932-be91-a78307468882",
   "metadata": {},
   "outputs": [],
   "source": [
    "model.add(Conv2D(filters=128,kernel_size=3,padding='same',activation='relu'))\n",
    "model.add(Conv2D(filters=128,kernel_size=3,activation='relu'))\n",
    "model.add(MaxPool2D(pool_size=2,strides=2))"
   ]
  },
  {
   "cell_type": "code",
   "execution_count": 22,
   "id": "211971e3-ea5f-41d1-8f4d-eeccbf7f53ee",
   "metadata": {},
   "outputs": [],
   "source": [
    "model.add(Dropout(0.3))"
   ]
  },
  {
   "cell_type": "code",
   "execution_count": 23,
   "id": "ddf9695c-3d17-43c8-8c04-3cb15837e006",
   "metadata": {},
   "outputs": [],
   "source": [
    "model.add(Conv2D(filters=256,kernel_size=3,padding='same',activation='relu'))\n",
    "model.add(Conv2D(filters=256,kernel_size=3,activation='relu'))\n",
    "model.add(MaxPool2D(pool_size=2,strides=2))"
   ]
  },
  {
   "cell_type": "code",
   "execution_count": 24,
   "id": "32464375-ca41-4695-93a1-841c37d0322b",
   "metadata": {},
   "outputs": [],
   "source": [
    "model.add(Conv2D(filters=512,kernel_size=3,padding='same',activation='relu'))\n",
    "model.add(Conv2D(filters=512,kernel_size=3,activation='relu'))\n",
    "model.add(MaxPool2D(pool_size=2,strides=2))"
   ]
  },
  {
   "cell_type": "code",
   "execution_count": 25,
   "id": "401b824a-82a0-410f-aeb1-ae148bc2afcd",
   "metadata": {},
   "outputs": [],
   "source": [
    "model.add(Dropout(0.3))"
   ]
  },
  {
   "cell_type": "code",
   "execution_count": 26,
   "id": "97d86585-3d1a-4546-bd7d-c6b7b48c099d",
   "metadata": {},
   "outputs": [],
   "source": [
    "model.add(Flatten())"
   ]
  },
  {
   "cell_type": "code",
   "execution_count": 27,
   "id": "c97990e7-08af-4962-b48a-7d4c4ae18f70",
   "metadata": {},
   "outputs": [],
   "source": [
    "model.add(Dense(units=1200,activation='relu'))"
   ]
  },
  {
   "cell_type": "code",
   "execution_count": 28,
   "id": "d30e417c-2836-405c-94ea-16966f7dec30",
   "metadata": {},
   "outputs": [],
   "source": [
    "model.add(Dropout(0.45))"
   ]
  },
  {
   "cell_type": "code",
   "execution_count": 29,
   "id": "c2c4d7f6-44cc-4e40-9e85-102404fa612d",
   "metadata": {},
   "outputs": [],
   "source": [
    "#Output layer\n",
    "model.add(Dense(units=len(classes),activation='softmax'))"
   ]
  },
  {
   "cell_type": "code",
   "execution_count": 30,
   "id": "0faf15e5-6e8b-4db4-ac99-15c6d999d741",
   "metadata": {},
   "outputs": [
    {
     "data": {
      "text/html": [
       "<pre style=\"white-space:pre;overflow-x:auto;line-height:normal;font-family:Menlo,'DejaVu Sans Mono',consolas,'Courier New',monospace\"><span style=\"font-weight: bold\">Model: \"sequential\"</span>\n",
       "</pre>\n"
      ],
      "text/plain": [
       "\u001b[1mModel: \"sequential\"\u001b[0m\n"
      ]
     },
     "metadata": {},
     "output_type": "display_data"
    },
    {
     "data": {
      "text/html": [
       "<pre style=\"white-space:pre;overflow-x:auto;line-height:normal;font-family:Menlo,'DejaVu Sans Mono',consolas,'Courier New',monospace\">┏━━━━━━━━━━━━━━━━━━━━━━━━━━━━━━━━━┳━━━━━━━━━━━━━━━━━━━━━━━━┳━━━━━━━━━━━━━━━┓\n",
       "┃<span style=\"font-weight: bold\"> Layer (type)                    </span>┃<span style=\"font-weight: bold\"> Output Shape           </span>┃<span style=\"font-weight: bold\">       Param # </span>┃\n",
       "┡━━━━━━━━━━━━━━━━━━━━━━━━━━━━━━━━━╇━━━━━━━━━━━━━━━━━━━━━━━━╇━━━━━━━━━━━━━━━┩\n",
       "│ conv2d (<span style=\"color: #0087ff; text-decoration-color: #0087ff\">Conv2D</span>)                 │ (<span style=\"color: #00d7ff; text-decoration-color: #00d7ff\">None</span>, <span style=\"color: #00af00; text-decoration-color: #00af00\">150</span>, <span style=\"color: #00af00; text-decoration-color: #00af00\">150</span>, <span style=\"color: #00af00; text-decoration-color: #00af00\">32</span>)   │           <span style=\"color: #00af00; text-decoration-color: #00af00\">320</span> │\n",
       "├─────────────────────────────────┼────────────────────────┼───────────────┤\n",
       "│ conv2d_1 (<span style=\"color: #0087ff; text-decoration-color: #0087ff\">Conv2D</span>)               │ (<span style=\"color: #00d7ff; text-decoration-color: #00d7ff\">None</span>, <span style=\"color: #00af00; text-decoration-color: #00af00\">148</span>, <span style=\"color: #00af00; text-decoration-color: #00af00\">148</span>, <span style=\"color: #00af00; text-decoration-color: #00af00\">32</span>)   │         <span style=\"color: #00af00; text-decoration-color: #00af00\">9,248</span> │\n",
       "├─────────────────────────────────┼────────────────────────┼───────────────┤\n",
       "│ max_pooling2d (<span style=\"color: #0087ff; text-decoration-color: #0087ff\">MaxPooling2D</span>)    │ (<span style=\"color: #00d7ff; text-decoration-color: #00d7ff\">None</span>, <span style=\"color: #00af00; text-decoration-color: #00af00\">74</span>, <span style=\"color: #00af00; text-decoration-color: #00af00\">74</span>, <span style=\"color: #00af00; text-decoration-color: #00af00\">32</span>)     │             <span style=\"color: #00af00; text-decoration-color: #00af00\">0</span> │\n",
       "├─────────────────────────────────┼────────────────────────┼───────────────┤\n",
       "│ conv2d_2 (<span style=\"color: #0087ff; text-decoration-color: #0087ff\">Conv2D</span>)               │ (<span style=\"color: #00d7ff; text-decoration-color: #00d7ff\">None</span>, <span style=\"color: #00af00; text-decoration-color: #00af00\">74</span>, <span style=\"color: #00af00; text-decoration-color: #00af00\">74</span>, <span style=\"color: #00af00; text-decoration-color: #00af00\">64</span>)     │        <span style=\"color: #00af00; text-decoration-color: #00af00\">18,496</span> │\n",
       "├─────────────────────────────────┼────────────────────────┼───────────────┤\n",
       "│ conv2d_3 (<span style=\"color: #0087ff; text-decoration-color: #0087ff\">Conv2D</span>)               │ (<span style=\"color: #00d7ff; text-decoration-color: #00d7ff\">None</span>, <span style=\"color: #00af00; text-decoration-color: #00af00\">72</span>, <span style=\"color: #00af00; text-decoration-color: #00af00\">72</span>, <span style=\"color: #00af00; text-decoration-color: #00af00\">64</span>)     │        <span style=\"color: #00af00; text-decoration-color: #00af00\">36,928</span> │\n",
       "├─────────────────────────────────┼────────────────────────┼───────────────┤\n",
       "│ max_pooling2d_1 (<span style=\"color: #0087ff; text-decoration-color: #0087ff\">MaxPooling2D</span>)  │ (<span style=\"color: #00d7ff; text-decoration-color: #00d7ff\">None</span>, <span style=\"color: #00af00; text-decoration-color: #00af00\">36</span>, <span style=\"color: #00af00; text-decoration-color: #00af00\">36</span>, <span style=\"color: #00af00; text-decoration-color: #00af00\">64</span>)     │             <span style=\"color: #00af00; text-decoration-color: #00af00\">0</span> │\n",
       "├─────────────────────────────────┼────────────────────────┼───────────────┤\n",
       "│ conv2d_4 (<span style=\"color: #0087ff; text-decoration-color: #0087ff\">Conv2D</span>)               │ (<span style=\"color: #00d7ff; text-decoration-color: #00d7ff\">None</span>, <span style=\"color: #00af00; text-decoration-color: #00af00\">36</span>, <span style=\"color: #00af00; text-decoration-color: #00af00\">36</span>, <span style=\"color: #00af00; text-decoration-color: #00af00\">128</span>)    │        <span style=\"color: #00af00; text-decoration-color: #00af00\">73,856</span> │\n",
       "├─────────────────────────────────┼────────────────────────┼───────────────┤\n",
       "│ conv2d_5 (<span style=\"color: #0087ff; text-decoration-color: #0087ff\">Conv2D</span>)               │ (<span style=\"color: #00d7ff; text-decoration-color: #00d7ff\">None</span>, <span style=\"color: #00af00; text-decoration-color: #00af00\">34</span>, <span style=\"color: #00af00; text-decoration-color: #00af00\">34</span>, <span style=\"color: #00af00; text-decoration-color: #00af00\">128</span>)    │       <span style=\"color: #00af00; text-decoration-color: #00af00\">147,584</span> │\n",
       "├─────────────────────────────────┼────────────────────────┼───────────────┤\n",
       "│ max_pooling2d_2 (<span style=\"color: #0087ff; text-decoration-color: #0087ff\">MaxPooling2D</span>)  │ (<span style=\"color: #00d7ff; text-decoration-color: #00d7ff\">None</span>, <span style=\"color: #00af00; text-decoration-color: #00af00\">17</span>, <span style=\"color: #00af00; text-decoration-color: #00af00\">17</span>, <span style=\"color: #00af00; text-decoration-color: #00af00\">128</span>)    │             <span style=\"color: #00af00; text-decoration-color: #00af00\">0</span> │\n",
       "├─────────────────────────────────┼────────────────────────┼───────────────┤\n",
       "│ dropout (<span style=\"color: #0087ff; text-decoration-color: #0087ff\">Dropout</span>)               │ (<span style=\"color: #00d7ff; text-decoration-color: #00d7ff\">None</span>, <span style=\"color: #00af00; text-decoration-color: #00af00\">17</span>, <span style=\"color: #00af00; text-decoration-color: #00af00\">17</span>, <span style=\"color: #00af00; text-decoration-color: #00af00\">128</span>)    │             <span style=\"color: #00af00; text-decoration-color: #00af00\">0</span> │\n",
       "├─────────────────────────────────┼────────────────────────┼───────────────┤\n",
       "│ conv2d_6 (<span style=\"color: #0087ff; text-decoration-color: #0087ff\">Conv2D</span>)               │ (<span style=\"color: #00d7ff; text-decoration-color: #00d7ff\">None</span>, <span style=\"color: #00af00; text-decoration-color: #00af00\">17</span>, <span style=\"color: #00af00; text-decoration-color: #00af00\">17</span>, <span style=\"color: #00af00; text-decoration-color: #00af00\">256</span>)    │       <span style=\"color: #00af00; text-decoration-color: #00af00\">295,168</span> │\n",
       "├─────────────────────────────────┼────────────────────────┼───────────────┤\n",
       "│ conv2d_7 (<span style=\"color: #0087ff; text-decoration-color: #0087ff\">Conv2D</span>)               │ (<span style=\"color: #00d7ff; text-decoration-color: #00d7ff\">None</span>, <span style=\"color: #00af00; text-decoration-color: #00af00\">15</span>, <span style=\"color: #00af00; text-decoration-color: #00af00\">15</span>, <span style=\"color: #00af00; text-decoration-color: #00af00\">256</span>)    │       <span style=\"color: #00af00; text-decoration-color: #00af00\">590,080</span> │\n",
       "├─────────────────────────────────┼────────────────────────┼───────────────┤\n",
       "│ max_pooling2d_3 (<span style=\"color: #0087ff; text-decoration-color: #0087ff\">MaxPooling2D</span>)  │ (<span style=\"color: #00d7ff; text-decoration-color: #00d7ff\">None</span>, <span style=\"color: #00af00; text-decoration-color: #00af00\">7</span>, <span style=\"color: #00af00; text-decoration-color: #00af00\">7</span>, <span style=\"color: #00af00; text-decoration-color: #00af00\">256</span>)      │             <span style=\"color: #00af00; text-decoration-color: #00af00\">0</span> │\n",
       "├─────────────────────────────────┼────────────────────────┼───────────────┤\n",
       "│ conv2d_8 (<span style=\"color: #0087ff; text-decoration-color: #0087ff\">Conv2D</span>)               │ (<span style=\"color: #00d7ff; text-decoration-color: #00d7ff\">None</span>, <span style=\"color: #00af00; text-decoration-color: #00af00\">7</span>, <span style=\"color: #00af00; text-decoration-color: #00af00\">7</span>, <span style=\"color: #00af00; text-decoration-color: #00af00\">512</span>)      │     <span style=\"color: #00af00; text-decoration-color: #00af00\">1,180,160</span> │\n",
       "├─────────────────────────────────┼────────────────────────┼───────────────┤\n",
       "│ conv2d_9 (<span style=\"color: #0087ff; text-decoration-color: #0087ff\">Conv2D</span>)               │ (<span style=\"color: #00d7ff; text-decoration-color: #00d7ff\">None</span>, <span style=\"color: #00af00; text-decoration-color: #00af00\">5</span>, <span style=\"color: #00af00; text-decoration-color: #00af00\">5</span>, <span style=\"color: #00af00; text-decoration-color: #00af00\">512</span>)      │     <span style=\"color: #00af00; text-decoration-color: #00af00\">2,359,808</span> │\n",
       "├─────────────────────────────────┼────────────────────────┼───────────────┤\n",
       "│ max_pooling2d_4 (<span style=\"color: #0087ff; text-decoration-color: #0087ff\">MaxPooling2D</span>)  │ (<span style=\"color: #00d7ff; text-decoration-color: #00d7ff\">None</span>, <span style=\"color: #00af00; text-decoration-color: #00af00\">2</span>, <span style=\"color: #00af00; text-decoration-color: #00af00\">2</span>, <span style=\"color: #00af00; text-decoration-color: #00af00\">512</span>)      │             <span style=\"color: #00af00; text-decoration-color: #00af00\">0</span> │\n",
       "├─────────────────────────────────┼────────────────────────┼───────────────┤\n",
       "│ dropout_1 (<span style=\"color: #0087ff; text-decoration-color: #0087ff\">Dropout</span>)             │ (<span style=\"color: #00d7ff; text-decoration-color: #00d7ff\">None</span>, <span style=\"color: #00af00; text-decoration-color: #00af00\">2</span>, <span style=\"color: #00af00; text-decoration-color: #00af00\">2</span>, <span style=\"color: #00af00; text-decoration-color: #00af00\">512</span>)      │             <span style=\"color: #00af00; text-decoration-color: #00af00\">0</span> │\n",
       "├─────────────────────────────────┼────────────────────────┼───────────────┤\n",
       "│ flatten (<span style=\"color: #0087ff; text-decoration-color: #0087ff\">Flatten</span>)               │ (<span style=\"color: #00d7ff; text-decoration-color: #00d7ff\">None</span>, <span style=\"color: #00af00; text-decoration-color: #00af00\">2048</span>)           │             <span style=\"color: #00af00; text-decoration-color: #00af00\">0</span> │\n",
       "├─────────────────────────────────┼────────────────────────┼───────────────┤\n",
       "│ dense (<span style=\"color: #0087ff; text-decoration-color: #0087ff\">Dense</span>)                   │ (<span style=\"color: #00d7ff; text-decoration-color: #00d7ff\">None</span>, <span style=\"color: #00af00; text-decoration-color: #00af00\">1200</span>)           │     <span style=\"color: #00af00; text-decoration-color: #00af00\">2,458,800</span> │\n",
       "├─────────────────────────────────┼────────────────────────┼───────────────┤\n",
       "│ dropout_2 (<span style=\"color: #0087ff; text-decoration-color: #0087ff\">Dropout</span>)             │ (<span style=\"color: #00d7ff; text-decoration-color: #00d7ff\">None</span>, <span style=\"color: #00af00; text-decoration-color: #00af00\">1200</span>)           │             <span style=\"color: #00af00; text-decoration-color: #00af00\">0</span> │\n",
       "├─────────────────────────────────┼────────────────────────┼───────────────┤\n",
       "│ dense_1 (<span style=\"color: #0087ff; text-decoration-color: #0087ff\">Dense</span>)                 │ (<span style=\"color: #00d7ff; text-decoration-color: #00d7ff\">None</span>, <span style=\"color: #00af00; text-decoration-color: #00af00\">10</span>)             │        <span style=\"color: #00af00; text-decoration-color: #00af00\">12,010</span> │\n",
       "└─────────────────────────────────┴────────────────────────┴───────────────┘\n",
       "</pre>\n"
      ],
      "text/plain": [
       "┏━━━━━━━━━━━━━━━━━━━━━━━━━━━━━━━━━┳━━━━━━━━━━━━━━━━━━━━━━━━┳━━━━━━━━━━━━━━━┓\n",
       "┃\u001b[1m \u001b[0m\u001b[1mLayer (type)                   \u001b[0m\u001b[1m \u001b[0m┃\u001b[1m \u001b[0m\u001b[1mOutput Shape          \u001b[0m\u001b[1m \u001b[0m┃\u001b[1m \u001b[0m\u001b[1m      Param #\u001b[0m\u001b[1m \u001b[0m┃\n",
       "┡━━━━━━━━━━━━━━━━━━━━━━━━━━━━━━━━━╇━━━━━━━━━━━━━━━━━━━━━━━━╇━━━━━━━━━━━━━━━┩\n",
       "│ conv2d (\u001b[38;5;33mConv2D\u001b[0m)                 │ (\u001b[38;5;45mNone\u001b[0m, \u001b[38;5;34m150\u001b[0m, \u001b[38;5;34m150\u001b[0m, \u001b[38;5;34m32\u001b[0m)   │           \u001b[38;5;34m320\u001b[0m │\n",
       "├─────────────────────────────────┼────────────────────────┼───────────────┤\n",
       "│ conv2d_1 (\u001b[38;5;33mConv2D\u001b[0m)               │ (\u001b[38;5;45mNone\u001b[0m, \u001b[38;5;34m148\u001b[0m, \u001b[38;5;34m148\u001b[0m, \u001b[38;5;34m32\u001b[0m)   │         \u001b[38;5;34m9,248\u001b[0m │\n",
       "├─────────────────────────────────┼────────────────────────┼───────────────┤\n",
       "│ max_pooling2d (\u001b[38;5;33mMaxPooling2D\u001b[0m)    │ (\u001b[38;5;45mNone\u001b[0m, \u001b[38;5;34m74\u001b[0m, \u001b[38;5;34m74\u001b[0m, \u001b[38;5;34m32\u001b[0m)     │             \u001b[38;5;34m0\u001b[0m │\n",
       "├─────────────────────────────────┼────────────────────────┼───────────────┤\n",
       "│ conv2d_2 (\u001b[38;5;33mConv2D\u001b[0m)               │ (\u001b[38;5;45mNone\u001b[0m, \u001b[38;5;34m74\u001b[0m, \u001b[38;5;34m74\u001b[0m, \u001b[38;5;34m64\u001b[0m)     │        \u001b[38;5;34m18,496\u001b[0m │\n",
       "├─────────────────────────────────┼────────────────────────┼───────────────┤\n",
       "│ conv2d_3 (\u001b[38;5;33mConv2D\u001b[0m)               │ (\u001b[38;5;45mNone\u001b[0m, \u001b[38;5;34m72\u001b[0m, \u001b[38;5;34m72\u001b[0m, \u001b[38;5;34m64\u001b[0m)     │        \u001b[38;5;34m36,928\u001b[0m │\n",
       "├─────────────────────────────────┼────────────────────────┼───────────────┤\n",
       "│ max_pooling2d_1 (\u001b[38;5;33mMaxPooling2D\u001b[0m)  │ (\u001b[38;5;45mNone\u001b[0m, \u001b[38;5;34m36\u001b[0m, \u001b[38;5;34m36\u001b[0m, \u001b[38;5;34m64\u001b[0m)     │             \u001b[38;5;34m0\u001b[0m │\n",
       "├─────────────────────────────────┼────────────────────────┼───────────────┤\n",
       "│ conv2d_4 (\u001b[38;5;33mConv2D\u001b[0m)               │ (\u001b[38;5;45mNone\u001b[0m, \u001b[38;5;34m36\u001b[0m, \u001b[38;5;34m36\u001b[0m, \u001b[38;5;34m128\u001b[0m)    │        \u001b[38;5;34m73,856\u001b[0m │\n",
       "├─────────────────────────────────┼────────────────────────┼───────────────┤\n",
       "│ conv2d_5 (\u001b[38;5;33mConv2D\u001b[0m)               │ (\u001b[38;5;45mNone\u001b[0m, \u001b[38;5;34m34\u001b[0m, \u001b[38;5;34m34\u001b[0m, \u001b[38;5;34m128\u001b[0m)    │       \u001b[38;5;34m147,584\u001b[0m │\n",
       "├─────────────────────────────────┼────────────────────────┼───────────────┤\n",
       "│ max_pooling2d_2 (\u001b[38;5;33mMaxPooling2D\u001b[0m)  │ (\u001b[38;5;45mNone\u001b[0m, \u001b[38;5;34m17\u001b[0m, \u001b[38;5;34m17\u001b[0m, \u001b[38;5;34m128\u001b[0m)    │             \u001b[38;5;34m0\u001b[0m │\n",
       "├─────────────────────────────────┼────────────────────────┼───────────────┤\n",
       "│ dropout (\u001b[38;5;33mDropout\u001b[0m)               │ (\u001b[38;5;45mNone\u001b[0m, \u001b[38;5;34m17\u001b[0m, \u001b[38;5;34m17\u001b[0m, \u001b[38;5;34m128\u001b[0m)    │             \u001b[38;5;34m0\u001b[0m │\n",
       "├─────────────────────────────────┼────────────────────────┼───────────────┤\n",
       "│ conv2d_6 (\u001b[38;5;33mConv2D\u001b[0m)               │ (\u001b[38;5;45mNone\u001b[0m, \u001b[38;5;34m17\u001b[0m, \u001b[38;5;34m17\u001b[0m, \u001b[38;5;34m256\u001b[0m)    │       \u001b[38;5;34m295,168\u001b[0m │\n",
       "├─────────────────────────────────┼────────────────────────┼───────────────┤\n",
       "│ conv2d_7 (\u001b[38;5;33mConv2D\u001b[0m)               │ (\u001b[38;5;45mNone\u001b[0m, \u001b[38;5;34m15\u001b[0m, \u001b[38;5;34m15\u001b[0m, \u001b[38;5;34m256\u001b[0m)    │       \u001b[38;5;34m590,080\u001b[0m │\n",
       "├─────────────────────────────────┼────────────────────────┼───────────────┤\n",
       "│ max_pooling2d_3 (\u001b[38;5;33mMaxPooling2D\u001b[0m)  │ (\u001b[38;5;45mNone\u001b[0m, \u001b[38;5;34m7\u001b[0m, \u001b[38;5;34m7\u001b[0m, \u001b[38;5;34m256\u001b[0m)      │             \u001b[38;5;34m0\u001b[0m │\n",
       "├─────────────────────────────────┼────────────────────────┼───────────────┤\n",
       "│ conv2d_8 (\u001b[38;5;33mConv2D\u001b[0m)               │ (\u001b[38;5;45mNone\u001b[0m, \u001b[38;5;34m7\u001b[0m, \u001b[38;5;34m7\u001b[0m, \u001b[38;5;34m512\u001b[0m)      │     \u001b[38;5;34m1,180,160\u001b[0m │\n",
       "├─────────────────────────────────┼────────────────────────┼───────────────┤\n",
       "│ conv2d_9 (\u001b[38;5;33mConv2D\u001b[0m)               │ (\u001b[38;5;45mNone\u001b[0m, \u001b[38;5;34m5\u001b[0m, \u001b[38;5;34m5\u001b[0m, \u001b[38;5;34m512\u001b[0m)      │     \u001b[38;5;34m2,359,808\u001b[0m │\n",
       "├─────────────────────────────────┼────────────────────────┼───────────────┤\n",
       "│ max_pooling2d_4 (\u001b[38;5;33mMaxPooling2D\u001b[0m)  │ (\u001b[38;5;45mNone\u001b[0m, \u001b[38;5;34m2\u001b[0m, \u001b[38;5;34m2\u001b[0m, \u001b[38;5;34m512\u001b[0m)      │             \u001b[38;5;34m0\u001b[0m │\n",
       "├─────────────────────────────────┼────────────────────────┼───────────────┤\n",
       "│ dropout_1 (\u001b[38;5;33mDropout\u001b[0m)             │ (\u001b[38;5;45mNone\u001b[0m, \u001b[38;5;34m2\u001b[0m, \u001b[38;5;34m2\u001b[0m, \u001b[38;5;34m512\u001b[0m)      │             \u001b[38;5;34m0\u001b[0m │\n",
       "├─────────────────────────────────┼────────────────────────┼───────────────┤\n",
       "│ flatten (\u001b[38;5;33mFlatten\u001b[0m)               │ (\u001b[38;5;45mNone\u001b[0m, \u001b[38;5;34m2048\u001b[0m)           │             \u001b[38;5;34m0\u001b[0m │\n",
       "├─────────────────────────────────┼────────────────────────┼───────────────┤\n",
       "│ dense (\u001b[38;5;33mDense\u001b[0m)                   │ (\u001b[38;5;45mNone\u001b[0m, \u001b[38;5;34m1200\u001b[0m)           │     \u001b[38;5;34m2,458,800\u001b[0m │\n",
       "├─────────────────────────────────┼────────────────────────┼───────────────┤\n",
       "│ dropout_2 (\u001b[38;5;33mDropout\u001b[0m)             │ (\u001b[38;5;45mNone\u001b[0m, \u001b[38;5;34m1200\u001b[0m)           │             \u001b[38;5;34m0\u001b[0m │\n",
       "├─────────────────────────────────┼────────────────────────┼───────────────┤\n",
       "│ dense_1 (\u001b[38;5;33mDense\u001b[0m)                 │ (\u001b[38;5;45mNone\u001b[0m, \u001b[38;5;34m10\u001b[0m)             │        \u001b[38;5;34m12,010\u001b[0m │\n",
       "└─────────────────────────────────┴────────────────────────┴───────────────┘\n"
      ]
     },
     "metadata": {},
     "output_type": "display_data"
    },
    {
     "data": {
      "text/html": [
       "<pre style=\"white-space:pre;overflow-x:auto;line-height:normal;font-family:Menlo,'DejaVu Sans Mono',consolas,'Courier New',monospace\"><span style=\"font-weight: bold\"> Total params: </span><span style=\"color: #00af00; text-decoration-color: #00af00\">7,182,458</span> (27.40 MB)\n",
       "</pre>\n"
      ],
      "text/plain": [
       "\u001b[1m Total params: \u001b[0m\u001b[38;5;34m7,182,458\u001b[0m (27.40 MB)\n"
      ]
     },
     "metadata": {},
     "output_type": "display_data"
    },
    {
     "data": {
      "text/html": [
       "<pre style=\"white-space:pre;overflow-x:auto;line-height:normal;font-family:Menlo,'DejaVu Sans Mono',consolas,'Courier New',monospace\"><span style=\"font-weight: bold\"> Trainable params: </span><span style=\"color: #00af00; text-decoration-color: #00af00\">7,182,458</span> (27.40 MB)\n",
       "</pre>\n"
      ],
      "text/plain": [
       "\u001b[1m Trainable params: \u001b[0m\u001b[38;5;34m7,182,458\u001b[0m (27.40 MB)\n"
      ]
     },
     "metadata": {},
     "output_type": "display_data"
    },
    {
     "data": {
      "text/html": [
       "<pre style=\"white-space:pre;overflow-x:auto;line-height:normal;font-family:Menlo,'DejaVu Sans Mono',consolas,'Courier New',monospace\"><span style=\"font-weight: bold\"> Non-trainable params: </span><span style=\"color: #00af00; text-decoration-color: #00af00\">0</span> (0.00 B)\n",
       "</pre>\n"
      ],
      "text/plain": [
       "\u001b[1m Non-trainable params: \u001b[0m\u001b[38;5;34m0\u001b[0m (0.00 B)\n"
      ]
     },
     "metadata": {},
     "output_type": "display_data"
    }
   ],
   "source": [
    "model.summary()"
   ]
  },
  {
   "cell_type": "code",
   "execution_count": 33,
   "id": "ed62fcba-23fa-4e5e-948b-2c0d50a362ae",
   "metadata": {},
   "outputs": [],
   "source": [
    "#Compile the model\n",
    "model.compile(optimizer=Adam(learning_rate=0.0001),loss='categorical_crossentropy',metrics=['accuracy'])"
   ]
  },
  {
   "cell_type": "code",
   "execution_count": 34,
   "id": "9967cbf2-a621-40d2-8227-335ec334e8b3",
   "metadata": {},
   "outputs": [
    {
     "name": "stdout",
     "output_type": "stream",
     "text": [
      "Epoch 1/30\n",
      "\u001b[1m375/375\u001b[0m \u001b[32m━━━━━━━━━━━━━━━━━━━━\u001b[0m\u001b[37m\u001b[0m \u001b[1m254s\u001b[0m 666ms/step - accuracy: 0.1365 - loss: 2.2564 - val_accuracy: 0.3336 - val_loss: 1.8121\n",
      "Epoch 2/30\n",
      "\u001b[1m375/375\u001b[0m \u001b[32m━━━━━━━━━━━━━━━━━━━━\u001b[0m\u001b[37m\u001b[0m \u001b[1m248s\u001b[0m 660ms/step - accuracy: 0.3644 - loss: 1.7200 - val_accuracy: 0.4995 - val_loss: 1.3843\n",
      "Epoch 3/30\n",
      "\u001b[1m375/375\u001b[0m \u001b[32m━━━━━━━━━━━━━━━━━━━━\u001b[0m\u001b[37m\u001b[0m \u001b[1m254s\u001b[0m 677ms/step - accuracy: 0.5041 - loss: 1.3436 - val_accuracy: 0.6391 - val_loss: 1.0262\n",
      "Epoch 4/30\n",
      "\u001b[1m375/375\u001b[0m \u001b[32m━━━━━━━━━━━━━━━━━━━━\u001b[0m\u001b[37m\u001b[0m \u001b[1m253s\u001b[0m 676ms/step - accuracy: 0.6308 - loss: 1.0303 - val_accuracy: 0.7082 - val_loss: 0.8761\n",
      "Epoch 5/30\n",
      "\u001b[1m375/375\u001b[0m \u001b[32m━━━━━━━━━━━━━━━━━━━━\u001b[0m\u001b[37m\u001b[0m \u001b[1m249s\u001b[0m 664ms/step - accuracy: 0.7177 - loss: 0.8005 - val_accuracy: 0.6634 - val_loss: 0.9516\n",
      "Epoch 6/30\n",
      "\u001b[1m375/375\u001b[0m \u001b[32m━━━━━━━━━━━━━━━━━━━━\u001b[0m\u001b[37m\u001b[0m \u001b[1m252s\u001b[0m 673ms/step - accuracy: 0.7723 - loss: 0.6632 - val_accuracy: 0.7776 - val_loss: 0.6495\n",
      "Epoch 7/30\n",
      "\u001b[1m375/375\u001b[0m \u001b[32m━━━━━━━━━━━━━━━━━━━━\u001b[0m\u001b[37m\u001b[0m \u001b[1m250s\u001b[0m 665ms/step - accuracy: 0.8100 - loss: 0.5622 - val_accuracy: 0.8294 - val_loss: 0.5268\n",
      "Epoch 8/30\n",
      "\u001b[1m375/375\u001b[0m \u001b[32m━━━━━━━━━━━━━━━━━━━━\u001b[0m\u001b[37m\u001b[0m \u001b[1m254s\u001b[0m 676ms/step - accuracy: 0.8453 - loss: 0.4434 - val_accuracy: 0.8538 - val_loss: 0.4392\n",
      "Epoch 9/30\n",
      "\u001b[1m375/375\u001b[0m \u001b[32m━━━━━━━━━━━━━━━━━━━━\u001b[0m\u001b[37m\u001b[0m \u001b[1m250s\u001b[0m 667ms/step - accuracy: 0.8695 - loss: 0.3621 - val_accuracy: 0.8561 - val_loss: 0.4339\n",
      "Epoch 10/30\n",
      "\u001b[1m375/375\u001b[0m \u001b[32m━━━━━━━━━━━━━━━━━━━━\u001b[0m\u001b[37m\u001b[0m \u001b[1m248s\u001b[0m 662ms/step - accuracy: 0.8908 - loss: 0.2975 - val_accuracy: 0.8574 - val_loss: 0.4229\n",
      "Epoch 11/30\n",
      "\u001b[1m375/375\u001b[0m \u001b[32m━━━━━━━━━━━━━━━━━━━━\u001b[0m\u001b[37m\u001b[0m \u001b[1m252s\u001b[0m 671ms/step - accuracy: 0.9122 - loss: 0.2519 - val_accuracy: 0.8942 - val_loss: 0.3219\n",
      "Epoch 12/30\n",
      "\u001b[1m375/375\u001b[0m \u001b[32m━━━━━━━━━━━━━━━━━━━━\u001b[0m\u001b[37m\u001b[0m \u001b[1m252s\u001b[0m 672ms/step - accuracy: 0.9299 - loss: 0.1966 - val_accuracy: 0.9055 - val_loss: 0.2833\n",
      "Epoch 13/30\n",
      "\u001b[1m375/375\u001b[0m \u001b[32m━━━━━━━━━━━━━━━━━━━━\u001b[0m\u001b[37m\u001b[0m \u001b[1m249s\u001b[0m 663ms/step - accuracy: 0.9358 - loss: 0.1845 - val_accuracy: 0.8875 - val_loss: 0.3528\n",
      "Epoch 14/30\n",
      "\u001b[1m375/375\u001b[0m \u001b[32m━━━━━━━━━━━━━━━━━━━━\u001b[0m\u001b[37m\u001b[0m \u001b[1m249s\u001b[0m 664ms/step - accuracy: 0.9414 - loss: 0.1705 - val_accuracy: 0.9092 - val_loss: 0.2785\n",
      "Epoch 15/30\n",
      "\u001b[1m375/375\u001b[0m \u001b[32m━━━━━━━━━━━━━━━━━━━━\u001b[0m\u001b[37m\u001b[0m \u001b[1m251s\u001b[0m 668ms/step - accuracy: 0.9475 - loss: 0.1484 - val_accuracy: 0.9062 - val_loss: 0.3183\n",
      "Epoch 16/30\n",
      "\u001b[1m375/375\u001b[0m \u001b[32m━━━━━━━━━━━━━━━━━━━━\u001b[0m\u001b[37m\u001b[0m \u001b[1m249s\u001b[0m 663ms/step - accuracy: 0.9588 - loss: 0.1201 - val_accuracy: 0.9192 - val_loss: 0.2820\n",
      "Epoch 17/30\n",
      "\u001b[1m375/375\u001b[0m \u001b[32m━━━━━━━━━━━━━━━━━━━━\u001b[0m\u001b[37m\u001b[0m \u001b[1m248s\u001b[0m 660ms/step - accuracy: 0.9661 - loss: 0.0980 - val_accuracy: 0.9192 - val_loss: 0.2738\n",
      "Epoch 18/30\n",
      "\u001b[1m375/375\u001b[0m \u001b[32m━━━━━━━━━━━━━━━━━━━━\u001b[0m\u001b[37m\u001b[0m \u001b[1m249s\u001b[0m 663ms/step - accuracy: 0.9698 - loss: 0.0869 - val_accuracy: 0.9232 - val_loss: 0.2549\n",
      "Epoch 19/30\n",
      "\u001b[1m375/375\u001b[0m \u001b[32m━━━━━━━━━━━━━━━━━━━━\u001b[0m\u001b[37m\u001b[0m \u001b[1m250s\u001b[0m 666ms/step - accuracy: 0.9790 - loss: 0.0619 - val_accuracy: 0.8995 - val_loss: 0.3381\n",
      "Epoch 20/30\n",
      "\u001b[1m375/375\u001b[0m \u001b[32m━━━━━━━━━━━━━━━━━━━━\u001b[0m\u001b[37m\u001b[0m \u001b[1m262s\u001b[0m 698ms/step - accuracy: 0.9726 - loss: 0.0849 - val_accuracy: 0.9219 - val_loss: 0.2647\n",
      "Epoch 21/30\n",
      "\u001b[1m375/375\u001b[0m \u001b[32m━━━━━━━━━━━━━━━━━━━━\u001b[0m\u001b[37m\u001b[0m \u001b[1m283s\u001b[0m 753ms/step - accuracy: 0.9732 - loss: 0.0818 - val_accuracy: 0.9309 - val_loss: 0.2388\n",
      "Epoch 22/30\n",
      "\u001b[1m375/375\u001b[0m \u001b[32m━━━━━━━━━━━━━━━━━━━━\u001b[0m\u001b[37m\u001b[0m \u001b[1m270s\u001b[0m 721ms/step - accuracy: 0.9829 - loss: 0.0531 - val_accuracy: 0.9119 - val_loss: 0.2741\n",
      "Epoch 23/30\n",
      "\u001b[1m375/375\u001b[0m \u001b[32m━━━━━━━━━━━━━━━━━━━━\u001b[0m\u001b[37m\u001b[0m \u001b[1m262s\u001b[0m 697ms/step - accuracy: 0.9771 - loss: 0.0634 - val_accuracy: 0.9012 - val_loss: 0.3017\n",
      "Epoch 24/30\n",
      "\u001b[1m375/375\u001b[0m \u001b[32m━━━━━━━━━━━━━━━━━━━━\u001b[0m\u001b[37m\u001b[0m \u001b[1m266s\u001b[0m 708ms/step - accuracy: 0.9779 - loss: 0.0698 - val_accuracy: 0.9349 - val_loss: 0.2180\n",
      "Epoch 25/30\n",
      "\u001b[1m375/375\u001b[0m \u001b[32m━━━━━━━━━━━━━━━━━━━━\u001b[0m\u001b[37m\u001b[0m \u001b[1m264s\u001b[0m 705ms/step - accuracy: 0.9858 - loss: 0.0423 - val_accuracy: 0.9289 - val_loss: 0.2370\n",
      "Epoch 26/30\n",
      "\u001b[1m375/375\u001b[0m \u001b[32m━━━━━━━━━━━━━━━━━━━━\u001b[0m\u001b[37m\u001b[0m \u001b[1m256s\u001b[0m 683ms/step - accuracy: 0.9845 - loss: 0.0479 - val_accuracy: 0.9105 - val_loss: 0.3250\n",
      "Epoch 27/30\n",
      "\u001b[1m375/375\u001b[0m \u001b[32m━━━━━━━━━━━━━━━━━━━━\u001b[0m\u001b[37m\u001b[0m \u001b[1m267s\u001b[0m 713ms/step - accuracy: 0.9820 - loss: 0.0532 - val_accuracy: 0.9229 - val_loss: 0.2737\n",
      "Epoch 28/30\n",
      "\u001b[1m375/375\u001b[0m \u001b[32m━━━━━━━━━━━━━━━━━━━━\u001b[0m\u001b[37m\u001b[0m \u001b[1m263s\u001b[0m 701ms/step - accuracy: 0.9846 - loss: 0.0437 - val_accuracy: 0.9169 - val_loss: 0.2811\n",
      "Epoch 29/30\n",
      "\u001b[1m375/375\u001b[0m \u001b[32m━━━━━━━━━━━━━━━━━━━━\u001b[0m\u001b[37m\u001b[0m \u001b[1m274s\u001b[0m 730ms/step - accuracy: 0.9881 - loss: 0.0349 - val_accuracy: 0.9192 - val_loss: 0.2913\n",
      "Epoch 30/30\n",
      "\u001b[1m375/375\u001b[0m \u001b[32m━━━━━━━━━━━━━━━━━━━━\u001b[0m\u001b[37m\u001b[0m \u001b[1m273s\u001b[0m 729ms/step - accuracy: 0.9819 - loss: 0.0563 - val_accuracy: 0.9139 - val_loss: 0.3032\n"
     ]
    }
   ],
   "source": [
    "#Training Model\n",
    "training_history = model.fit(X_train,Y_train,epochs=30,batch_size=32,validation_data=(X_test,Y_test))"
   ]
  },
  {
   "cell_type": "code",
   "execution_count": 26,
   "id": "85bbd014-dadd-45ce-a485-18a9dcb7ef9c",
   "metadata": {},
   "outputs": [
    {
     "name": "stderr",
     "output_type": "stream",
     "text": [
      "/Users/animesh/anaconda3/envs/tensorflow/lib/python3.10/site-packages/keras/src/engine/training.py:3103: UserWarning: You are saving your model as an HDF5 file via `model.save()`. This file format is considered legacy. We recommend using instead the native Keras format, e.g. `model.save('my_model.keras')`.\n",
      "  saving_api.save_model(\n"
     ]
    }
   ],
   "source": [
    "model.save(\"Trained_model.keras\") #Mac\n",
    "model.save(\"Trained_model.h5\") #Windows"
   ]
  },
  {
   "cell_type": "code",
   "execution_count": 28,
   "id": "439f37a0-a106-4322-b46c-76d2b610f8db",
   "metadata": {},
   "outputs": [
    {
     "data": {
      "text/plain": [
       "{'loss': [2.0204217433929443,\n",
       "  1.4848459959030151,\n",
       "  1.1853015422821045,\n",
       "  1.003432035446167,\n",
       "  0.8511081337928772,\n",
       "  0.7237023711204529,\n",
       "  0.6284310221672058,\n",
       "  0.5209404230117798,\n",
       "  0.45991751551628113,\n",
       "  0.39179104566574097,\n",
       "  0.32845956087112427,\n",
       "  0.29232847690582275,\n",
       "  0.241055428981781,\n",
       "  0.2185302972793579,\n",
       "  0.18324626982212067,\n",
       "  0.1514931172132492,\n",
       "  0.16106188297271729,\n",
       "  0.13241784274578094,\n",
       "  0.1147485300898552,\n",
       "  0.12942680716514587,\n",
       "  0.09043190628290176,\n",
       "  0.09417214244604111,\n",
       "  0.08139744400978088,\n",
       "  0.08271943777799606,\n",
       "  0.07774775475263596,\n",
       "  0.08096491545438766,\n",
       "  0.07381734251976013,\n",
       "  0.07115212827920914,\n",
       "  0.05207819119095802,\n",
       "  0.09434403479099274],\n",
       " 'accuracy': [0.2620200216770172,\n",
       "  0.4784640967845917,\n",
       "  0.5987479090690613,\n",
       "  0.655592679977417,\n",
       "  0.7103505730628967,\n",
       "  0.7560935020446777,\n",
       "  0.7890651226043701,\n",
       "  0.8274624347686768,\n",
       "  0.842570960521698,\n",
       "  0.868781328201294,\n",
       "  0.8880634307861328,\n",
       "  0.9029215574264526,\n",
       "  0.9199498891830444,\n",
       "  0.9271285533905029,\n",
       "  0.9386477470397949,\n",
       "  0.949999988079071,\n",
       "  0.946661114692688,\n",
       "  0.9562604427337646,\n",
       "  0.9614357352256775,\n",
       "  0.9588480591773987,\n",
       "  0.9707011580467224,\n",
       "  0.9687812924385071,\n",
       "  0.9731218814849854,\n",
       "  0.973789632320404,\n",
       "  0.9753756523132324,\n",
       "  0.9736226797103882,\n",
       "  0.9776293635368347,\n",
       "  0.9782136678695679,\n",
       "  0.9828881621360779,\n",
       "  0.9728714227676392],\n",
       " 'val_loss': [1.7277613878250122,\n",
       "  1.2436965703964233,\n",
       "  1.0371183156967163,\n",
       "  0.8820503354072571,\n",
       "  0.7604389190673828,\n",
       "  0.7003780603408813,\n",
       "  0.622701108455658,\n",
       "  0.6098797917366028,\n",
       "  0.573236346244812,\n",
       "  0.5700345039367676,\n",
       "  0.45887571573257446,\n",
       "  0.43867433071136475,\n",
       "  0.4503192901611328,\n",
       "  0.4671923816204071,\n",
       "  0.5040718913078308,\n",
       "  0.5031691193580627,\n",
       "  0.4341115951538086,\n",
       "  0.4256725609302521,\n",
       "  0.39570438861846924,\n",
       "  0.4640021324157715,\n",
       "  0.4466232657432556,\n",
       "  0.5173290371894836,\n",
       "  0.37244242429733276,\n",
       "  0.4412586987018585,\n",
       "  0.4068472683429718,\n",
       "  0.5015928149223328,\n",
       "  0.44153183698654175,\n",
       "  0.5383853912353516,\n",
       "  0.518845796585083,\n",
       "  0.4700189232826233],\n",
       " 'val_accuracy': [0.34958264231681824,\n",
       "  0.5823038220405579,\n",
       "  0.6450751423835754,\n",
       "  0.7015025019645691,\n",
       "  0.7505843043327332,\n",
       "  0.7595993280410767,\n",
       "  0.7946577668190002,\n",
       "  0.8016694784164429,\n",
       "  0.8173622488975525,\n",
       "  0.8290483951568604,\n",
       "  0.8564273715019226,\n",
       "  0.8617696166038513,\n",
       "  0.859098494052887,\n",
       "  0.8587645888328552,\n",
       "  0.859098494052887,\n",
       "  0.8621035218238831,\n",
       "  0.8818029761314392,\n",
       "  0.8831385374069214,\n",
       "  0.8888146877288818,\n",
       "  0.895158588886261,\n",
       "  0.8921535611152649,\n",
       "  0.8814691305160522,\n",
       "  0.9028380513191223,\n",
       "  0.9055091738700867,\n",
       "  0.8958263993263245,\n",
       "  0.886811375617981,\n",
       "  0.9035058617591858,\n",
       "  0.8697829842567444,\n",
       "  0.8944908380508423,\n",
       "  0.8924874663352966]}"
      ]
     },
     "execution_count": 28,
     "metadata": {},
     "output_type": "execute_result"
    }
   ],
   "source": [
    "training_history.history"
   ]
  },
  {
   "cell_type": "code",
   "execution_count": 29,
   "id": "4c156765-ad75-4f09-9154-e3aaf784aa56",
   "metadata": {},
   "outputs": [],
   "source": [
    "#Recording History in json\n",
    "import json\n",
    "with open('training_hist.json','w') as f:\n",
    "  json.dump(training_history.history,f)"
   ]
  },
  {
   "cell_type": "code",
   "execution_count": null,
   "id": "393ad9f7-c0b1-405a-a306-900768a0d5c8",
   "metadata": {},
   "outputs": [],
   "source": []
  },
  {
   "cell_type": "code",
   "execution_count": 21,
   "id": "42ba6757-8288-4c60-adbd-e3e3a6e9765d",
   "metadata": {},
   "outputs": [
    {
     "data": {
      "text/plain": [
       "array([[[[3.62469602e+00],\n",
       "         [1.06304932e+00],\n",
       "         [5.78081071e-01],\n",
       "         ...,\n",
       "         [7.72284317e+01],\n",
       "         [4.75934067e+01],\n",
       "         [1.37238359e+01]],\n",
       "\n",
       "        [[6.16288261e+01],\n",
       "         [1.11565666e+02],\n",
       "         [1.24939728e+02],\n",
       "         ...,\n",
       "         [2.26902710e+02],\n",
       "         [1.67433502e+02],\n",
       "         [9.14233856e+01]],\n",
       "\n",
       "        [[9.65764847e+01],\n",
       "         [1.58142334e+02],\n",
       "         [1.55722260e+02],\n",
       "         ...,\n",
       "         [2.27748688e+02],\n",
       "         [3.04347015e+02],\n",
       "         [1.79836197e+02]],\n",
       "\n",
       "        ...,\n",
       "\n",
       "        [[5.75669517e-04],\n",
       "         [1.67717793e-04],\n",
       "         [4.96678513e-05],\n",
       "         ...,\n",
       "         [8.38105916e-05],\n",
       "         [8.60303917e-05],\n",
       "         [1.59282630e-04]],\n",
       "\n",
       "        [[5.21527836e-04],\n",
       "         [1.09017732e-04],\n",
       "         [2.23153370e-06],\n",
       "         ...,\n",
       "         [8.25764164e-06],\n",
       "         [1.78673235e-05],\n",
       "         [1.52539389e-04]],\n",
       "\n",
       "        [[5.25240088e-04],\n",
       "         [1.06741449e-04],\n",
       "         [1.71574825e-07],\n",
       "         ...,\n",
       "         [3.12205913e-07],\n",
       "         [1.28374477e-05],\n",
       "         [1.55486137e-04]]],\n",
       "\n",
       "\n",
       "       [[[4.13578860e-02],\n",
       "         [3.33910100e-02],\n",
       "         [1.81767680e-02],\n",
       "         ...,\n",
       "         [5.61319776e-02],\n",
       "         [6.38222173e-02],\n",
       "         [3.78923081e-02]],\n",
       "\n",
       "        [[2.18524620e-01],\n",
       "         [3.96867633e-01],\n",
       "         [6.02166355e-01],\n",
       "         ...,\n",
       "         [3.49215895e-01],\n",
       "         [3.75370115e-01],\n",
       "         [1.88648567e-01]],\n",
       "\n",
       "        [[3.87951225e-01],\n",
       "         [6.40461504e-01],\n",
       "         [8.52900267e-01],\n",
       "         ...,\n",
       "         [2.28535041e-01],\n",
       "         [2.29497418e-01],\n",
       "         [1.39971003e-01]],\n",
       "\n",
       "        ...,\n",
       "\n",
       "        [[3.45503554e-06],\n",
       "         [7.08347727e-07],\n",
       "         [5.41933920e-09],\n",
       "         ...,\n",
       "         [1.59474318e-08],\n",
       "         [8.74867254e-08],\n",
       "         [9.21494461e-07]],\n",
       "\n",
       "        [[3.44367481e-06],\n",
       "         [7.05445302e-07],\n",
       "         [5.46335155e-09],\n",
       "         ...,\n",
       "         [4.95464647e-09],\n",
       "         [8.43233110e-08],\n",
       "         [9.90431090e-07]],\n",
       "\n",
       "        [[3.36515018e-06],\n",
       "         [6.90229569e-07],\n",
       "         [7.45370432e-09],\n",
       "         ...,\n",
       "         [5.71301495e-09],\n",
       "         [8.92666918e-08],\n",
       "         [1.04712524e-06]]],\n",
       "\n",
       "\n",
       "       [[[2.85233474e+00],\n",
       "         [1.79994619e+00],\n",
       "         [1.34854925e+00],\n",
       "         ...,\n",
       "         [5.68488240e-01],\n",
       "         [8.39724839e-01],\n",
       "         [4.91122991e-01]],\n",
       "\n",
       "        [[2.10585938e+01],\n",
       "         [1.77698555e+01],\n",
       "         [9.13225555e+00],\n",
       "         ...,\n",
       "         [1.13937302e+01],\n",
       "         [1.13448410e+01],\n",
       "         [7.44082403e+00]],\n",
       "\n",
       "        [[5.47143173e+01],\n",
       "         [1.20128914e+02],\n",
       "         [8.79800110e+01],\n",
       "         ...,\n",
       "         [8.78297272e+01],\n",
       "         [7.91553268e+01],\n",
       "         [4.47402649e+01]],\n",
       "\n",
       "        ...,\n",
       "\n",
       "        [[2.08249898e-03],\n",
       "         [4.24228405e-04],\n",
       "         [1.47384668e-07],\n",
       "         ...,\n",
       "         [4.98341421e-07],\n",
       "         [6.27513236e-06],\n",
       "         [7.48683815e-05]],\n",
       "\n",
       "        [[2.06075562e-03],\n",
       "         [4.19436692e-04],\n",
       "         [1.91715337e-08],\n",
       "         ...,\n",
       "         [4.75451714e-08],\n",
       "         [5.74026353e-06],\n",
       "         [7.14592024e-05]],\n",
       "\n",
       "        [[2.05001887e-03],\n",
       "         [4.17273550e-04],\n",
       "         [6.54175691e-09],\n",
       "         ...,\n",
       "         [5.89343419e-09],\n",
       "         [5.55933821e-06],\n",
       "         [6.94771661e-05]]],\n",
       "\n",
       "\n",
       "       ...,\n",
       "\n",
       "\n",
       "       [[[1.51555920e+00],\n",
       "         [1.54157722e+00],\n",
       "         [2.10912061e+00],\n",
       "         ...,\n",
       "         [5.22746481e-02],\n",
       "         [3.91471498e-02],\n",
       "         [1.87632695e-01]],\n",
       "\n",
       "        [[2.98566890e+00],\n",
       "         [8.15333748e+00],\n",
       "         [7.04700470e+00],\n",
       "         ...,\n",
       "         [3.95639986e-01],\n",
       "         [6.03535414e-01],\n",
       "         [5.29187143e-01]],\n",
       "\n",
       "        [[4.88571787e+00],\n",
       "         [1.23185549e+01],\n",
       "         [7.96158981e+00],\n",
       "         ...,\n",
       "         [3.89808965e+00],\n",
       "         [4.76887369e+00],\n",
       "         [2.87200093e+00]],\n",
       "\n",
       "        ...,\n",
       "\n",
       "        [[4.74567944e-03],\n",
       "         [3.34790722e-02],\n",
       "         [4.29903306e-02],\n",
       "         ...,\n",
       "         [1.00080715e-03],\n",
       "         [1.19629165e-03],\n",
       "         [5.75008686e-04]],\n",
       "\n",
       "        [[3.76159768e-03],\n",
       "         [2.92976201e-02],\n",
       "         [4.20140512e-02],\n",
       "         ...,\n",
       "         [1.16409129e-03],\n",
       "         [1.13894674e-03],\n",
       "         [5.64082817e-04]],\n",
       "\n",
       "        [[3.08792689e-03],\n",
       "         [2.19188016e-02],\n",
       "         [2.78611239e-02],\n",
       "         ...,\n",
       "         [1.98856392e-03],\n",
       "         [1.71616301e-03],\n",
       "         [7.51737680e-04]]],\n",
       "\n",
       "\n",
       "       [[[7.36155435e-02],\n",
       "         [2.08163969e-02],\n",
       "         [4.42711003e-02],\n",
       "         ...,\n",
       "         [2.83832312e+00],\n",
       "         [5.73530853e-01],\n",
       "         [3.91897373e-02]],\n",
       "\n",
       "        [[1.11586243e-01],\n",
       "         [4.39523943e-02],\n",
       "         [8.22227448e-02],\n",
       "         ...,\n",
       "         [1.32149577e+00],\n",
       "         [3.69605988e-01],\n",
       "         [5.69948480e-02]],\n",
       "\n",
       "        [[1.91782936e-01],\n",
       "         [1.27504066e-01],\n",
       "         [1.03231542e-01],\n",
       "         ...,\n",
       "         [3.62304062e-01],\n",
       "         [1.40734911e-01],\n",
       "         [6.86683729e-02]],\n",
       "\n",
       "        ...,\n",
       "\n",
       "        [[4.26675228e-08],\n",
       "         [1.67052274e-08],\n",
       "         [1.54547504e-08],\n",
       "         ...,\n",
       "         [7.38275263e-09],\n",
       "         [1.60214327e-07],\n",
       "         [1.91372192e-06]],\n",
       "\n",
       "        [[4.35543726e-08],\n",
       "         [1.40480543e-08],\n",
       "         [9.41890921e-09],\n",
       "         ...,\n",
       "         [6.15080209e-09],\n",
       "         [1.60484035e-07],\n",
       "         [1.93722235e-06]],\n",
       "\n",
       "        [[4.31449720e-08],\n",
       "         [1.22321238e-08],\n",
       "         [5.65900171e-09],\n",
       "         ...,\n",
       "         [3.72592934e-09],\n",
       "         [1.61298303e-07],\n",
       "         [1.95383245e-06]]],\n",
       "\n",
       "\n",
       "       [[[1.65783930e+00],\n",
       "         [4.68617630e+00],\n",
       "         [6.53511572e+00],\n",
       "         ...,\n",
       "         [7.84920812e-01],\n",
       "         [6.78743124e-01],\n",
       "         [3.93411160e-01]],\n",
       "\n",
       "        [[1.21139116e+01],\n",
       "         [2.36690598e+01],\n",
       "         [3.27429924e+01],\n",
       "         ...,\n",
       "         [4.92850733e+00],\n",
       "         [7.49965572e+00],\n",
       "         [5.57003975e+00]],\n",
       "\n",
       "        [[4.56056328e+01],\n",
       "         [4.20444031e+01],\n",
       "         [2.89824829e+01],\n",
       "         ...,\n",
       "         [1.51415377e+01],\n",
       "         [1.66613560e+01],\n",
       "         [1.35702944e+01]],\n",
       "\n",
       "        ...,\n",
       "\n",
       "        [[5.46804258e-05],\n",
       "         [1.80001571e-05],\n",
       "         [3.15446391e-06],\n",
       "         ...,\n",
       "         [1.38062948e-08],\n",
       "         [5.48124376e-07],\n",
       "         [6.72439455e-06]],\n",
       "\n",
       "        [[4.12871923e-05],\n",
       "         [9.05727211e-06],\n",
       "         [2.65574187e-07],\n",
       "         ...,\n",
       "         [5.13723597e-09],\n",
       "         [5.53648022e-07],\n",
       "         [6.83809185e-06]],\n",
       "\n",
       "        [[3.66149252e-05],\n",
       "         [7.51003654e-06],\n",
       "         [1.56116453e-08],\n",
       "         ...,\n",
       "         [5.45454926e-09],\n",
       "         [5.40364226e-07],\n",
       "         [6.69215297e-06]]]], dtype=float32)"
      ]
     },
     "execution_count": 21,
     "metadata": {},
     "output_type": "execute_result"
    }
   ],
   "source": [
    "X_train"
   ]
  },
  {
   "cell_type": "code",
   "execution_count": 15,
   "id": "03ad7c45-5ae0-48d1-806b-7dd453846062",
   "metadata": {},
   "outputs": [
    {
     "name": "stdout",
     "output_type": "stream",
     "text": [
      "Model: \"sequential\"\n",
      "_________________________________________________________________\n",
      " Layer (type)                Output Shape              Param #   \n",
      "=================================================================\n",
      " conv2d (Conv2D)             (None, 150, 150, 32)      320       \n",
      "                                                                 \n",
      " conv2d_1 (Conv2D)           (None, 148, 148, 32)      9248      \n",
      "                                                                 \n",
      " max_pooling2d (MaxPooling2  (None, 74, 74, 32)        0         \n",
      " D)                                                              \n",
      "                                                                 \n",
      " conv2d_2 (Conv2D)           (None, 74, 74, 64)        18496     \n",
      "                                                                 \n",
      " conv2d_3 (Conv2D)           (None, 72, 72, 64)        36928     \n",
      "                                                                 \n",
      " max_pooling2d_1 (MaxPoolin  (None, 36, 36, 64)        0         \n",
      " g2D)                                                            \n",
      "                                                                 \n",
      " conv2d_4 (Conv2D)           (None, 36, 36, 128)       73856     \n",
      "                                                                 \n",
      " conv2d_5 (Conv2D)           (None, 34, 34, 128)       147584    \n",
      "                                                                 \n",
      " max_pooling2d_2 (MaxPoolin  (None, 17, 17, 128)       0         \n",
      " g2D)                                                            \n",
      "                                                                 \n",
      " dropout (Dropout)           (None, 17, 17, 128)       0         \n",
      "                                                                 \n",
      " conv2d_6 (Conv2D)           (None, 17, 17, 256)       295168    \n",
      "                                                                 \n",
      " conv2d_7 (Conv2D)           (None, 15, 15, 256)       590080    \n",
      "                                                                 \n",
      " max_pooling2d_3 (MaxPoolin  (None, 7, 7, 256)         0         \n",
      " g2D)                                                            \n",
      "                                                                 \n",
      " conv2d_8 (Conv2D)           (None, 7, 7, 512)         1180160   \n",
      "                                                                 \n",
      " conv2d_9 (Conv2D)           (None, 5, 5, 512)         2359808   \n",
      "                                                                 \n",
      " max_pooling2d_4 (MaxPoolin  (None, 2, 2, 512)         0         \n",
      " g2D)                                                            \n",
      "                                                                 \n",
      " dropout_1 (Dropout)         (None, 2, 2, 512)         0         \n",
      "                                                                 \n",
      " flatten (Flatten)           (None, 2048)              0         \n",
      "                                                                 \n",
      " dense (Dense)               (None, 1200)              2458800   \n",
      "                                                                 \n",
      " dropout_2 (Dropout)         (None, 1200)              0         \n",
      "                                                                 \n",
      " dense_1 (Dense)             (None, 10)                12010     \n",
      "                                                                 \n",
      "=================================================================\n",
      "Total params: 7182458 (27.40 MB)\n",
      "Trainable params: 7182458 (27.40 MB)\n",
      "Non-trainable params: 0 (0.00 Byte)\n",
      "_________________________________________________________________\n"
     ]
    }
   ],
   "source": [
    "#Reloading model variable\n",
    "model = tf.keras.models.load_model(\"Trained_model.h5\")\n",
    "model.summary()"
   ]
  },
  {
   "cell_type": "code",
   "execution_count": 16,
   "id": "335d7940-9472-49e0-84a5-6e2a027c7338",
   "metadata": {},
   "outputs": [],
   "source": [
    "#Reloading Training history\n",
    "import json\n",
    "with open(\"training_hist.json\",'r') as json_file:\n",
    "    training_history_data = json.load(json_file)"
   ]
  },
  {
   "cell_type": "code",
   "execution_count": 17,
   "id": "00080956-61aa-467e-bfd7-4962c4c8a74c",
   "metadata": {},
   "outputs": [
    {
     "data": {
      "text/plain": [
       "dict_keys(['loss', 'accuracy', 'val_loss', 'val_accuracy'])"
      ]
     },
     "execution_count": 17,
     "metadata": {},
     "output_type": "execute_result"
    }
   ],
   "source": [
    "training_history_data.keys()"
   ]
  },
  {
   "cell_type": "markdown",
   "id": "de46c037-5f12-4f1f-a5c4-0b4eedb2972b",
   "metadata": {},
   "source": [
    "## Model Evaluation - I"
   ]
  },
  {
   "cell_type": "code",
   "execution_count": 26,
   "id": "b1b158f0-5329-44aa-844f-755fbfaccf9a",
   "metadata": {},
   "outputs": [
    {
     "name": "stdout",
     "output_type": "stream",
     "text": [
      "  1/375 [..............................] - ETA: 1:32 - loss: 0.0472 - accuracy: 0.9688"
     ]
    },
    {
     "name": "stderr",
     "output_type": "stream",
     "text": [
      "2024-09-05 13:06:22.984408: I tensorflow/core/grappler/optimizers/custom_graph_optimizer_registry.cc:117] Plugin optimizer for device_type GPU is enabled.\n"
     ]
    },
    {
     "name": "stdout",
     "output_type": "stream",
     "text": [
      "375/375 [==============================] - 16s 42ms/step - loss: 0.0432 - accuracy: 0.9856\n"
     ]
    }
   ],
   "source": [
    "#Model evaluation on Training set\n",
    "train_loss,train_accuracy = model.evaluate(X_train,Y_train)"
   ]
  },
  {
   "cell_type": "code",
   "execution_count": 28,
   "id": "127f71b4-4a18-4d07-8dc0-75a3fd085dee",
   "metadata": {},
   "outputs": [
    {
     "data": {
      "text/plain": [
       "(0.04322619363665581, 0.9856427311897278)"
      ]
     },
     "execution_count": 28,
     "metadata": {},
     "output_type": "execute_result"
    }
   ],
   "source": [
    "train_loss,train_accuracy"
   ]
  },
  {
   "cell_type": "code",
   "execution_count": 27,
   "id": "d86770f3-1f67-4217-9b1c-497bb8eeef6b",
   "metadata": {},
   "outputs": [
    {
     "name": "stdout",
     "output_type": "stream",
     "text": [
      "94/94 [==============================] - 4s 43ms/step - loss: 0.4700 - accuracy: 0.8925\n"
     ]
    }
   ],
   "source": [
    "#Model evaluation on Validation set\n",
    "val_loss,val_accuracy = model.evaluate(X_test,Y_test)"
   ]
  },
  {
   "cell_type": "code",
   "execution_count": 29,
   "id": "a96f195e-ac49-4ae7-bfe1-5352911a9787",
   "metadata": {},
   "outputs": [
    {
     "data": {
      "text/plain": [
       "(0.4700189232826233, 0.8924874663352966)"
      ]
     },
     "execution_count": 29,
     "metadata": {},
     "output_type": "execute_result"
    }
   ],
   "source": [
    "val_loss,val_accuracy"
   ]
  },
  {
   "cell_type": "code",
   "execution_count": 37,
   "id": "0e1d1be4-624c-43e3-aab0-f6219e3f5240",
   "metadata": {},
   "outputs": [
    {
     "data": {
      "text/plain": [
       "[1.7277613878250122,\n",
       " 1.2436965703964233,\n",
       " 1.0371183156967163,\n",
       " 0.8820503354072571,\n",
       " 0.7604389190673828,\n",
       " 0.7003780603408813,\n",
       " 0.622701108455658,\n",
       " 0.6098797917366028,\n",
       " 0.573236346244812,\n",
       " 0.5700345039367676,\n",
       " 0.45887571573257446,\n",
       " 0.43867433071136475,\n",
       " 0.4503192901611328,\n",
       " 0.4671923816204071,\n",
       " 0.5040718913078308,\n",
       " 0.5031691193580627,\n",
       " 0.4341115951538086,\n",
       " 0.4256725609302521,\n",
       " 0.39570438861846924,\n",
       " 0.4640021324157715,\n",
       " 0.4466232657432556,\n",
       " 0.5173290371894836,\n",
       " 0.37244242429733276,\n",
       " 0.4412586987018585,\n",
       " 0.4068472683429718,\n",
       " 0.5015928149223328,\n",
       " 0.44153183698654175,\n",
       " 0.5383853912353516,\n",
       " 0.518845796585083,\n",
       " 0.4700189232826233]"
      ]
     },
     "execution_count": 37,
     "metadata": {},
     "output_type": "execute_result"
    }
   ],
   "source": [
    "training_history_data['val_loss']"
   ]
  },
  {
   "cell_type": "markdown",
   "id": "ffef155a-8c2e-4ff5-86f1-06a93fe26083",
   "metadata": {},
   "source": [
    "## Accuracy and Loss Visualization"
   ]
  },
  {
   "cell_type": "code",
   "execution_count": 43,
   "id": "cd125394-d4ca-4da8-87b7-f3b17df8da9c",
   "metadata": {},
   "outputs": [
    {
     "data": {
      "image/png": "[encoded data removed]",
      "text/plain": [
       "<Figure size 640x480 with 1 Axes>"
      ]
     },
     "metadata": {},
     "output_type": "display_data"
    }
   ],
   "source": [
    "#Visualization of Loss\n",
    "epochs = [i for i in range(1,31)]\n",
    "plt.plot(epochs,training_history_data['loss'],label=\"Training Loss\",color='red')\n",
    "plt.plot(epochs,training_history_data['val_loss'],label=\"Validation Loss\",color='blue')\n",
    "plt.xlabel(\"No. of Epochs\")\n",
    "plt.ylabel(\"Loss\")\n",
    "plt.title(\"Visualization of Loss Result\")\n",
    "plt.legend()\n",
    "plt.show()"
   ]
  },
  {
   "cell_type": "code",
   "execution_count": 46,
   "id": "3da1f8be-0c7c-4244-80c5-ca22fa3a5821",
   "metadata": {},
   "outputs": [
    {
     "data": {
      "image/png": "[encoded data removed]",
      "text/plain": [
       "<Figure size 640x480 with 1 Axes>"
      ]
     },
     "metadata": {},
     "output_type": "display_data"
    }
   ],
   "source": [
    "#Visualization of Accuracy\n",
    "epochs = [i for i in range(1,31)]\n",
    "plt.plot(epochs,training_history_data['accuracy'],label=\"Training Accuracy\",color='red')\n",
    "plt.plot(epochs,training_history_data['val_accuracy'],label=\"Validation Accuracy\",color='blue')\n",
    "plt.xlabel(\"No. of Epochs\")\n",
    "plt.ylabel(\"Accuracy\")\n",
    "plt.title(\"Visualization of Accuracy Result\")\n",
    "plt.legend()\n",
    "plt.show()"
   ]
  },
  {
   "cell_type": "markdown",
   "id": "46b639b9-c043-467e-9217-f7239ba28944",
   "metadata": {},
   "source": [
    "## Precision,Recall,Confusion Matrix - Model Evaluation-II"
   ]
  },
  {
   "cell_type": "code",
   "execution_count": 19,
   "id": "84b4da1b-4b37-45e1-ac39-af6ed1daf663",
   "metadata": {},
   "outputs": [
    {
     "data": {
      "text/plain": [
       "(2995, 150, 150, 1)"
      ]
     },
     "execution_count": 19,
     "metadata": {},
     "output_type": "execute_result"
    }
   ],
   "source": [
    "X_test.shape"
   ]
  },
  {
   "cell_type": "code",
   "execution_count": 20,
   "id": "09f43751-4f9c-4b49-a9fc-85c487b2432e",
   "metadata": {},
   "outputs": [
    {
     "name": "stdout",
     "output_type": "stream",
     "text": [
      " 3/94 [..............................] - ETA: 2s "
     ]
    },
    {
     "name": "stderr",
     "output_type": "stream",
     "text": [
      "2024-09-15 20:19:57.496858: I tensorflow/core/grappler/optimizers/custom_graph_optimizer_registry.cc:117] Plugin optimizer for device_type GPU is enabled.\n"
     ]
    },
    {
     "name": "stdout",
     "output_type": "stream",
     "text": [
      "94/94 [==============================] - 4s 41ms/step\n"
     ]
    },
    {
     "data": {
      "text/plain": [
       "array([[2.6562146e-04, 2.8876246e-12, 9.4110817e-01, ..., 5.3116322e-02,\n",
       "        1.0774442e-06, 5.5056820e-03],\n",
       "       [1.2050692e-08, 1.7227166e-14, 1.1675338e-05, ..., 7.2019488e-09,\n",
       "        4.7832871e-09, 9.8800910e-01],\n",
       "       [1.1936303e-06, 1.2878280e-05, 3.1493261e-04, ..., 2.3610676e-06,\n",
       "        1.9415455e-07, 4.0005866e-04],\n",
       "       ...,\n",
       "       [9.9997008e-01, 3.0055109e-18, 2.9890662e-05, ..., 2.7753857e-13,\n",
       "        4.3859512e-13, 3.1008829e-09],\n",
       "       [6.4050123e-06, 9.9941623e-01, 5.5354085e-05, ..., 4.0306262e-05,\n",
       "        4.0627659e-05, 4.9173774e-05],\n",
       "       [0.0000000e+00, 0.0000000e+00, 0.0000000e+00, ..., 4.5828971e-22,\n",
       "        0.0000000e+00, 0.0000000e+00]], dtype=float32)"
      ]
     },
     "execution_count": 20,
     "metadata": {},
     "output_type": "execute_result"
    }
   ],
   "source": [
    "y_pred = model.predict(X_test)\n",
    "y_pred"
   ]
  },
  {
   "cell_type": "code",
   "execution_count": 21,
   "id": "d504d7e5-575e-4960-8d8c-a96bca95b974",
   "metadata": {},
   "outputs": [
    {
     "data": {
      "text/plain": [
       "(2995, 10)"
      ]
     },
     "execution_count": 21,
     "metadata": {},
     "output_type": "execute_result"
    }
   ],
   "source": [
    "y_pred.shape"
   ]
  },
  {
   "cell_type": "code",
   "execution_count": 22,
   "id": "5fd39b6a-e470-4be4-957f-2d09c078ee48",
   "metadata": {},
   "outputs": [
    {
     "data": {
      "text/plain": [
       "array([2, 9, 6, ..., 0, 1, 4])"
      ]
     },
     "execution_count": 22,
     "metadata": {},
     "output_type": "execute_result"
    }
   ],
   "source": [
    "predicted_categories = np.argmax(y_pred,axis=1)\n",
    "predicted_categories"
   ]
  },
  {
   "cell_type": "code",
   "execution_count": 24,
   "id": "7869a427-bab3-4b7b-89c5-52787b2a1422",
   "metadata": {},
   "outputs": [
    {
     "data": {
      "text/plain": [
       "array([[0., 0., 0., ..., 1., 0., 0.],\n",
       "       [0., 0., 0., ..., 0., 0., 0.],\n",
       "       [0., 0., 0., ..., 0., 0., 0.],\n",
       "       ...,\n",
       "       [1., 0., 0., ..., 0., 0., 0.],\n",
       "       [0., 1., 0., ..., 0., 0., 0.],\n",
       "       [0., 0., 0., ..., 0., 0., 0.]], dtype=float32)"
      ]
     },
     "execution_count": 24,
     "metadata": {},
     "output_type": "execute_result"
    }
   ],
   "source": [
    "Y_test"
   ]
  },
  {
   "cell_type": "code",
   "execution_count": 26,
   "id": "5400e3f4-2902-42b7-a1c3-6b5e4b31c1d4",
   "metadata": {},
   "outputs": [
    {
     "data": {
      "text/plain": [
       "(2995, 10)"
      ]
     },
     "execution_count": 26,
     "metadata": {},
     "output_type": "execute_result"
    }
   ],
   "source": [
    "Y_test.shape"
   ]
  },
  {
   "cell_type": "code",
   "execution_count": 27,
   "id": "02787a73-5908-4a95-8bf6-0838feab4a0d",
   "metadata": {},
   "outputs": [
    {
     "data": {
      "text/plain": [
       "array([7, 6, 6, ..., 0, 1, 4])"
      ]
     },
     "execution_count": 27,
     "metadata": {},
     "output_type": "execute_result"
    }
   ],
   "source": [
    "true_categories = np.argmax(Y_test,axis=1)\n",
    "true_categories"
   ]
  },
  {
   "cell_type": "code",
   "execution_count": 28,
   "id": "9975da49-7fe2-46a1-bd68-24655c566bdc",
   "metadata": {},
   "outputs": [
    {
     "data": {
      "text/plain": [
       "['blues',\n",
       " 'classical',\n",
       " 'country',\n",
       " 'disco',\n",
       " 'hiphop',\n",
       " 'jazz',\n",
       " 'metal',\n",
       " 'pop',\n",
       " 'reggae',\n",
       " 'rock']"
      ]
     },
     "execution_count": 28,
     "metadata": {},
     "output_type": "execute_result"
    }
   ],
   "source": [
    "classes"
   ]
  },
  {
   "cell_type": "code",
   "execution_count": 29,
   "id": "1e3a1d3f-14e7-4d61-babf-679d3dbf9508",
   "metadata": {},
   "outputs": [
    {
     "name": "stdout",
     "output_type": "stream",
     "text": [
      "              precision    recall  f1-score   support\n",
      "\n",
      "       blues       0.95      0.79      0.86       302\n",
      "   classical       0.91      0.97      0.94       298\n",
      "     country       0.79      0.87      0.83       317\n",
      "       disco       0.93      0.92      0.92       312\n",
      "      hiphop       0.97      0.91      0.94       277\n",
      "        jazz       0.96      0.82      0.88       311\n",
      "       metal       0.95      0.94      0.95       302\n",
      "         pop       0.85      0.94      0.89       289\n",
      "      reggae       0.93      0.87      0.90       296\n",
      "        rock       0.75      0.90      0.82       291\n",
      "\n",
      "    accuracy                           0.89      2995\n",
      "   macro avg       0.90      0.89      0.89      2995\n",
      "weighted avg       0.90      0.89      0.89      2995\n",
      "\n"
     ]
    }
   ],
   "source": [
    "from sklearn.metrics import confusion_matrix,classification_report\n",
    "cm = confusion_matrix(true_categories,predicted_categories)\n",
    "# Precision Recall F1score\n",
    "print(classification_report(true_categories,predicted_categories,target_names=classes))"
   ]
  },
  {
   "cell_type": "markdown",
   "id": "5ade1d18-a8c7-4942-a081-511e20d82d5c",
   "metadata": {},
   "source": [
    "## Confusion Matrix Visualization"
   ]
  },
  {
   "cell_type": "code",
   "execution_count": 31,
   "id": "1238cbd4-43ac-412f-8303-f62caf6c6b56",
   "metadata": {},
   "outputs": [
    {
     "data": {
      "text/plain": [
       "array([[238,   3,  27,   2,   0,   0,   1,   6,   3,  22],\n",
       "       [  0, 289,   1,   1,   0,   5,   0,   1,   0,   1],\n",
       "       [  4,   2, 277,   4,   0,   5,   2,   3,   5,  15],\n",
       "       [  1,   0,   1, 287,   0,   0,   0,   8,   4,  11],\n",
       "       [  0,   0,   0,   0, 252,   0,   3,  15,   3,   4],\n",
       "       [  6,  19,  19,   1,   0, 255,   0,   2,   1,   8],\n",
       "       [  0,   0,   0,   0,   2,   0, 285,   1,   0,  14],\n",
       "       [  0,   2,   4,   1,   4,   1,   0, 271,   2,   4],\n",
       "       [  1,   1,  15,   9,   1,   0,   0,   5, 257,   7],\n",
       "       [  0,   0,   8,   5,   0,   1,   8,   6,   1, 262]])"
      ]
     },
     "execution_count": 31,
     "metadata": {},
     "output_type": "execute_result"
    }
   ],
   "source": [
    "cm"
   ]
  },
  {
   "cell_type": "code",
   "execution_count": 39,
   "id": "e1ebf63b-7773-48ae-a1d8-fdbf82bafd43",
   "metadata": {},
   "outputs": [
    {
     "data": {
      "image/png": "[encoded data removed]",
      "text/plain": [
       "<Figure size 1500x1500 with 2 Axes>"
      ]
     },
     "metadata": {},
     "output_type": "display_data"
    }
   ],
   "source": [
    "import seaborn as sns\n",
    "plt.figure(figsize=(15,15))\n",
    "sns.heatmap(cm,annot=True,annot_kws={\"size\":10})\n",
    "plt.xlabel(\"Predicted Class\",fontsize=10)\n",
    "plt.ylabel(\"Actual Class\",fontsize=10)\n",
    "plt.title(\"Music Genre Classification Confusion Matrix\",fontsize=15)\n",
    "plt.show()"
   ]
  },
  {
   "cell_type": "code",
   "execution_count": null,
   "id": "334b67e0-a321-4d98-a3e2-d1b57fb33bbe",
   "metadata": {},
   "outputs": [],
   "source": []
  }
 ],
 "metadata": {
  "kernelspec": {
   "display_name": "Python 3",
   "language": "python",
   "name": "python3"
  },
  "language_info": {
   "codemirror_mode": {
    "name": "ipython",
    "version": 3
   },
   "file_extension": ".py",
   "mimetype": "text/x-python",
   "name": "python",
   "nbconvert_exporter": "python",
   "pygments_lexer": "ipython3",
   "version": "3.12.5"
  }
 },
 "nbformat": 4,
 "nbformat_minor": 5
}
